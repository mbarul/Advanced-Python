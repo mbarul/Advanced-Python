{
  "nbformat": 4,
  "nbformat_minor": 0,
  "metadata": {
    "colab": {
      "name": "Advanced Python - Data Model.ipynb",
      "provenance": [],
      "collapsed_sections": [],
      "authorship_tag": "ABX9TyM8BtEzqjtXIwxAS0NvdUra",
      "include_colab_link": true
    },
    "kernelspec": {
      "name": "python3",
      "display_name": "Python 3"
    },
    "language_info": {
      "name": "python"
    }
  },
  "cells": [
    {
      "cell_type": "markdown",
      "metadata": {
        "id": "view-in-github",
        "colab_type": "text"
      },
      "source": [
        "<a href=\"https://colab.research.google.com/github/mbarul/Advanced-Python/blob/main/Advanced_Python_Data_Model.ipynb\" target=\"_parent\"><img src=\"https://colab.research.google.com/assets/colab-badge.svg\" alt=\"Open In Colab\"/></a>"
      ]
    },
    {
      "cell_type": "code",
      "execution_count": null,
      "metadata": {
        "colab": {
          "base_uri": "https://localhost:8080/"
        },
        "id": "_X6fCn9dd9by",
        "outputId": "4fbb38cc-4e1c-4dce-c623-60f8cbce7702"
      },
      "outputs": [
        {
          "output_type": "stream",
          "name": "stdout",
          "text": [
            "Card(rank='2', suit='clubs')\n",
            "Card(rank='2', suit='diamonds')\n",
            "Card(rank='2', suit='hearts')\n",
            "Card(rank='2', suit='spades')\n",
            "Card(rank='3', suit='clubs')\n",
            "Card(rank='3', suit='diamonds')\n",
            "Card(rank='3', suit='hearts')\n",
            "Card(rank='3', suit='spades')\n",
            "Card(rank='4', suit='clubs')\n",
            "Card(rank='4', suit='diamonds')\n",
            "Card(rank='4', suit='hearts')\n",
            "Card(rank='4', suit='spades')\n",
            "Card(rank='5', suit='clubs')\n",
            "Card(rank='5', suit='diamonds')\n",
            "Card(rank='5', suit='hearts')\n",
            "Card(rank='5', suit='spades')\n",
            "Card(rank='6', suit='clubs')\n",
            "Card(rank='6', suit='diamonds')\n",
            "Card(rank='6', suit='hearts')\n",
            "Card(rank='6', suit='spades')\n",
            "Card(rank='7', suit='clubs')\n",
            "Card(rank='7', suit='diamonds')\n",
            "Card(rank='7', suit='hearts')\n",
            "Card(rank='7', suit='spades')\n",
            "Card(rank='8', suit='clubs')\n",
            "Card(rank='8', suit='diamonds')\n",
            "Card(rank='8', suit='hearts')\n",
            "Card(rank='8', suit='spades')\n",
            "Card(rank='9', suit='clubs')\n",
            "Card(rank='9', suit='diamonds')\n",
            "Card(rank='9', suit='hearts')\n",
            "Card(rank='9', suit='spades')\n",
            "Card(rank='10', suit='clubs')\n",
            "Card(rank='10', suit='diamonds')\n",
            "Card(rank='10', suit='hearts')\n",
            "Card(rank='10', suit='spades')\n",
            "Card(rank='J', suit='clubs')\n",
            "Card(rank='J', suit='diamonds')\n",
            "Card(rank='J', suit='hearts')\n",
            "Card(rank='J', suit='spades')\n",
            "Card(rank='Q', suit='clubs')\n",
            "Card(rank='Q', suit='diamonds')\n",
            "Card(rank='Q', suit='hearts')\n",
            "Card(rank='Q', suit='spades')\n",
            "Card(rank='K', suit='clubs')\n",
            "Card(rank='K', suit='diamonds')\n",
            "Card(rank='K', suit='hearts')\n",
            "Card(rank='K', suit='spades')\n",
            "Card(rank='A', suit='clubs')\n",
            "Card(rank='A', suit='diamonds')\n",
            "Card(rank='A', suit='hearts')\n",
            "Card(rank='A', suit='spades')\n"
          ]
        }
      ],
      "source": [
        "import collections \n",
        "from random import choice\n",
        "\n",
        "card = collections.namedtuple('Card', ['rank', 'suit'])\n",
        "\n",
        "class FrenchDeck:\n",
        "  ranks = [str(n) for n in range(2,11)] + list('JQKA')\n",
        "  suits = 'spades diamonds clubs hearts'.split()\n",
        "  def __init__(self):\n",
        "    self._cards = [card(rank,suit) for suit in self.suits\n",
        "                   for rank in self.ranks]\n",
        "\n",
        "  def __len__(self):\n",
        "    return len(self._cards)\n",
        "  def __getitem__(self,position):\n",
        "    return self._cards[position]\n",
        "\n",
        "beer_card = card('7','diamonds')\n",
        "beer_card\n",
        "deck = FrenchDeck()\n",
        "\n",
        "\n",
        "#print(choice(deck))\n",
        "#print(choice(deck))\n",
        "#print(choice(deck))\n",
        "\n",
        "#for card in reversed(deck):\n",
        "#  print(card)\n",
        "\n",
        "suit_values = dict(spades=3,hearts=2,diamonds=1,clubs=0)\n",
        "\n",
        "def spades_high(card):\n",
        "  rank_value = FrenchDeck.ranks.index(card.rank)\n",
        "  return rank_value * len(suit_values) + suit_values[card.suit]\n",
        "\n",
        "for card in sorted(deck, key=spades_high):\n",
        "  print(card)\n",
        "\n"
      ]
    },
    {
      "cell_type": "code",
      "source": [
        "from math import hypot\n",
        "\n",
        "class Vector:\n",
        "  def __init__(self,x=0,y=0):\n",
        "    self.x = x\n",
        "    self.y = y\n",
        "  def __repr__(self):\n",
        "    return 'Vector(%r, %r)' %(self.x, self.y)\n",
        "  def __abs__(self):\n",
        "    return hypot(self.x,self.y)\n",
        "  def __bool__(self):\n",
        "    return bool(abs(self))\n",
        "  def __add__(self,other):\n",
        "    x = self.x + other.x\n",
        "    y= self.y + other.y\n",
        "    return Vector(x,y)\n",
        "  def __mul__(self, scalar):\n",
        "    return Vector(self.x*scalar, self.y*scalar)"
      ],
      "metadata": {
        "id": "zS2VCwhpfiiR"
      },
      "execution_count": null,
      "outputs": []
    },
    {
      "cell_type": "code",
      "source": [
        "v1 = Vector(2,4)\n",
        "v2 = Vector (1,5)\n",
        "v2.__repr__()"
      ],
      "metadata": {
        "colab": {
          "base_uri": "https://localhost:8080/",
          "height": 36
        },
        "id": "sS_n26Sq9pBw",
        "outputId": "36834adc-9f65-4d19-8a7b-2d35deb82d3d"
      },
      "execution_count": null,
      "outputs": [
        {
          "output_type": "execute_result",
          "data": {
            "application/vnd.google.colaboratory.intrinsic+json": {
              "type": "string"
            },
            "text/plain": [
              "'Vector(1, 5)'"
            ]
          },
          "metadata": {},
          "execution_count": 10
        }
      ]
    },
    {
      "cell_type": "code",
      "source": [
        "dir(str)"
      ],
      "metadata": {
        "colab": {
          "base_uri": "https://localhost:8080/"
        },
        "id": "4Ivw2IpwAk_z",
        "outputId": "01553969-c5ed-4252-fd41-4db7a1880ffd"
      },
      "execution_count": null,
      "outputs": [
        {
          "output_type": "execute_result",
          "data": {
            "text/plain": [
              "['__add__',\n",
              " '__class__',\n",
              " '__contains__',\n",
              " '__delattr__',\n",
              " '__dir__',\n",
              " '__doc__',\n",
              " '__eq__',\n",
              " '__format__',\n",
              " '__ge__',\n",
              " '__getattribute__',\n",
              " '__getitem__',\n",
              " '__getnewargs__',\n",
              " '__gt__',\n",
              " '__hash__',\n",
              " '__init__',\n",
              " '__init_subclass__',\n",
              " '__iter__',\n",
              " '__le__',\n",
              " '__len__',\n",
              " '__lt__',\n",
              " '__mod__',\n",
              " '__mul__',\n",
              " '__ne__',\n",
              " '__new__',\n",
              " '__reduce__',\n",
              " '__reduce_ex__',\n",
              " '__repr__',\n",
              " '__rmod__',\n",
              " '__rmul__',\n",
              " '__setattr__',\n",
              " '__sizeof__',\n",
              " '__str__',\n",
              " '__subclasshook__',\n",
              " 'capitalize',\n",
              " 'casefold',\n",
              " 'center',\n",
              " 'count',\n",
              " 'encode',\n",
              " 'endswith',\n",
              " 'expandtabs',\n",
              " 'find',\n",
              " 'format',\n",
              " 'format_map',\n",
              " 'index',\n",
              " 'isalnum',\n",
              " 'isalpha',\n",
              " 'isascii',\n",
              " 'isdecimal',\n",
              " 'isdigit',\n",
              " 'isidentifier',\n",
              " 'islower',\n",
              " 'isnumeric',\n",
              " 'isprintable',\n",
              " 'isspace',\n",
              " 'istitle',\n",
              " 'isupper',\n",
              " 'join',\n",
              " 'ljust',\n",
              " 'lower',\n",
              " 'lstrip',\n",
              " 'maketrans',\n",
              " 'partition',\n",
              " 'replace',\n",
              " 'rfind',\n",
              " 'rindex',\n",
              " 'rjust',\n",
              " 'rpartition',\n",
              " 'rsplit',\n",
              " 'rstrip',\n",
              " 'split',\n",
              " 'splitlines',\n",
              " 'startswith',\n",
              " 'strip',\n",
              " 'swapcase',\n",
              " 'title',\n",
              " 'translate',\n",
              " 'upper',\n",
              " 'zfill']"
            ]
          },
          "metadata": {},
          "execution_count": 1
        }
      ]
    },
    {
      "cell_type": "code",
      "source": [
        "liczba = 10\n",
        "liczba.__add__(10)"
      ],
      "metadata": {
        "colab": {
          "base_uri": "https://localhost:8080/"
        },
        "id": "jLVqx2fq0awu",
        "outputId": "32eeec07-3375-4f03-9c54-84d0aa4a2a9f"
      },
      "execution_count": null,
      "outputs": [
        {
          "output_type": "execute_result",
          "data": {
            "text/plain": [
              "20"
            ]
          },
          "metadata": {},
          "execution_count": 2
        }
      ]
    },
    {
      "cell_type": "code",
      "source": [
        "class Employee:\n",
        "    def __init__(self):\n",
        "        print (\"__init__ magic method is called\")\n",
        "        self.name='Satya'\n",
        "        self.salary = 10000\n",
        "    def __new__(cls):\n",
        "        print (\"__new__ magic method is called\")\n",
        "        inst = object.__new__(cls)\n",
        "        return inst\n",
        "    def __str__(self):\n",
        "      return f\"STR: name={self.name}, salary= ${self.salary}\"\n",
        "    def __repr__(self):\n",
        "      return f\"REPR: name={self.name}, salary= ${self.salary}\"\n",
        "\n",
        "e = Employee()\n",
        "e"
      ],
      "metadata": {
        "colab": {
          "base_uri": "https://localhost:8080/"
        },
        "id": "foaUj6Sc95no",
        "outputId": "a0e96dc5-2daa-4ee7-8b52-c96fc0516d4b"
      },
      "execution_count": null,
      "outputs": [
        {
          "output_type": "stream",
          "name": "stdout",
          "text": [
            "__new__ magic method is called\n",
            "__init__ magic method is called\n"
          ]
        },
        {
          "output_type": "execute_result",
          "data": {
            "text/plain": [
              "REPR: name=Satya, salary= $10000"
            ]
          },
          "metadata": {},
          "execution_count": 18
        }
      ]
    },
    {
      "cell_type": "code",
      "source": [
        "class Distance:\n",
        "  def __init__(self, x=None, y=None):\n",
        "    self.ft=x\n",
        "    self.inch=y\n",
        "  def __add__(self,x):\n",
        "    temp = Distance()\n",
        "    temp.ft = self.ft + x.ft\n",
        "    temp.inch = self.inch + x.inch\n",
        "    if temp.inch >=12:\n",
        "      temp.ft+=1\n",
        "      temp.inch -=12\n",
        "      return temp\n",
        "  def __str__(self):\n",
        "    return f\"ft: {str(self.ft)} in {str(self.inch)}\"\n",
        "\n",
        "d1  = Distance(3,10)\n",
        "d2 = Distance(4,4)\n",
        "d3 = d1 + d2\n",
        "print(d3)   "
      ],
      "metadata": {
        "colab": {
          "base_uri": "https://localhost:8080/"
        },
        "id": "JTgvjLW3AUqE",
        "outputId": "2cc1ffcd-7ef3-454b-9b8b-aabc78d3075b"
      },
      "execution_count": null,
      "outputs": [
        {
          "output_type": "stream",
          "name": "stdout",
          "text": [
            "ft: 8 in 2\n"
          ]
        }
      ]
    },
    {
      "cell_type": "markdown",
      "source": [
        "#Magic methods-metody specjalne - dundery\n",
        "# __init__, __new__"
      ],
      "metadata": {
        "id": "8CqsmBmlE7P-"
      }
    },
    {
      "cell_type": "code",
      "source": [
        "help(object.__init__)"
      ],
      "metadata": {
        "colab": {
          "base_uri": "https://localhost:8080/"
        },
        "id": "csOhyZ5SMPHa",
        "outputId": "f12ec6bb-3717-4190-8ebd-62d33f372854"
      },
      "execution_count": null,
      "outputs": [
        {
          "output_type": "stream",
          "name": "stdout",
          "text": [
            "Help on wrapper_descriptor:\n",
            "\n",
            "__init__(self, /, *args, **kwargs)\n",
            "    Initialize self.  See help(type(self)) for accurate signature.\n",
            "\n"
          ]
        }
      ]
    },
    {
      "cell_type": "code",
      "source": [
        "help(object.__new__)"
      ],
      "metadata": {
        "colab": {
          "base_uri": "https://localhost:8080/"
        },
        "id": "S3L0K74pMZ3p",
        "outputId": "ccef97f3-7cc5-4281-a3cb-0ab8f82f28e3"
      },
      "execution_count": null,
      "outputs": [
        {
          "output_type": "stream",
          "name": "stdout",
          "text": [
            "Help on built-in function __new__:\n",
            "\n",
            "__new__(*args, **kwargs) method of builtins.type instance\n",
            "    Create and return a new object.  See help(type) for accurate signature.\n",
            "\n"
          ]
        }
      ]
    },
    {
      "cell_type": "code",
      "source": [
        "class Company:\n",
        "  \"\"\"The company docs.\"\"\"\n",
        "  def __init__(self, name):\n",
        "    self.name = name\n",
        "\n",
        "company = Company('Microsoft')\n",
        "company.__dict__"
      ],
      "metadata": {
        "colab": {
          "base_uri": "https://localhost:8080/"
        },
        "id": "_Kyzm92yMctc",
        "outputId": "d0deda51-6463-490a-9d90-196831d23a15"
      },
      "execution_count": null,
      "outputs": [
        {
          "output_type": "execute_result",
          "data": {
            "text/plain": [
              "{'name': 'Microsoft'}"
            ]
          },
          "metadata": {},
          "execution_count": 6
        }
      ]
    },
    {
      "cell_type": "code",
      "source": [
        "company2 = Company.__new__(Company)\n",
        "print(company2)\n",
        "company2.__init__(\"Dell\")\n",
        "print(company2.__dict__)"
      ],
      "metadata": {
        "colab": {
          "base_uri": "https://localhost:8080/"
        },
        "id": "w32siOhrM0Fq",
        "outputId": "2a7488df-18bd-400e-8ba9-39cc618dec3f"
      },
      "execution_count": null,
      "outputs": [
        {
          "output_type": "stream",
          "name": "stdout",
          "text": [
            "<__main__.Company object at 0x7f21bc1ef6d0>\n",
            "{'name': 'Dell'}\n"
          ]
        }
      ]
    },
    {
      "cell_type": "code",
      "source": [
        "class Student:\n",
        "  students = []\n",
        "  limit = 3\n",
        "\n",
        "  def __new__(cls):\n",
        "    if len(cls.students) >= cls.limit:\n",
        "      raise RuntimeError(f\"Instance limit reached: {cls.limit}\")\n",
        "    instance = object.__new__(cls)\n",
        "    cls.students.append(instance)\n",
        "    return instance\n",
        "\n",
        "s1 = Student()\n",
        "s2 = Student()\n",
        "s3 = Student()\n",
        "\n",
        "Student.__dict__\n",
        "\n"
      ],
      "metadata": {
        "colab": {
          "base_uri": "https://localhost:8080/"
        },
        "id": "928nZ8rcNNUg",
        "outputId": "e37ba82f-3bee-49ee-fa3d-9bd2b53f94e7"
      },
      "execution_count": null,
      "outputs": [
        {
          "output_type": "execute_result",
          "data": {
            "text/plain": [
              "mappingproxy({'__dict__': <attribute '__dict__' of 'Student' objects>,\n",
              "              '__doc__': None,\n",
              "              '__module__': '__main__',\n",
              "              '__new__': <staticmethod at 0x7f21ba4b6310>,\n",
              "              '__weakref__': <attribute '__weakref__' of 'Student' objects>,\n",
              "              'limit': 3,\n",
              "              'students': [<__main__.Student at 0x7f21ba4b6390>,\n",
              "               <__main__.Student at 0x7f21ba4b63d0>,\n",
              "               <__main__.Student at 0x7f21ba4b6350>]})"
            ]
          },
          "metadata": {},
          "execution_count": 16
        }
      ]
    },
    {
      "cell_type": "markdown",
      "source": [
        "**REPR**"
      ],
      "metadata": {
        "id": "84MCcinMOt46"
      }
    },
    {
      "cell_type": "code",
      "source": [
        "help(object.__repr__)"
      ],
      "metadata": {
        "colab": {
          "base_uri": "https://localhost:8080/"
        },
        "id": "VHROtFlHUP5E",
        "outputId": "401c2574-1482-4a9d-d670-1d7f83d7af1d"
      },
      "execution_count": null,
      "outputs": [
        {
          "output_type": "stream",
          "name": "stdout",
          "text": [
            "Help on wrapper_descriptor:\n",
            "\n",
            "__repr__(self, /)\n",
            "    Return repr(self).\n",
            "\n"
          ]
        }
      ]
    },
    {
      "cell_type": "code",
      "source": [
        "class Phone:\n",
        "  def __init__(self, brand):\n",
        "    self.brand = brand\n",
        "\n",
        "  def __repr__(self):\n",
        "    return f\"Phone {self.brand}\"\n",
        "\n",
        "Phone.__dict__\n",
        "print(repr(Phone))\n",
        "phone = Phone(\"Apple\")\n",
        "print(phone)\n",
        "print(repr(phone))"
      ],
      "metadata": {
        "colab": {
          "base_uri": "https://localhost:8080/"
        },
        "id": "i-ElAeeoUU2-",
        "outputId": "c11dbbe7-d110-4c8d-d387-a0210328e0c3"
      },
      "execution_count": 1,
      "outputs": [
        {
          "output_type": "stream",
          "name": "stdout",
          "text": [
            "<class '__main__.Phone'>\n",
            "Phone Apple\n",
            "Phone Apple\n"
          ]
        }
      ]
    },
    {
      "cell_type": "markdown",
      "source": [
        "STR"
      ],
      "metadata": {
        "id": "oqfxnXTPUjOd"
      }
    },
    {
      "cell_type": "code",
      "source": [
        "class Phone:\n",
        "  def __init__(self, brand):\n",
        "    self.brand = brand\n",
        "\n",
        "  def __repr__(self):\n",
        "    return f\"Phone {self.brand}\"\n",
        "  def __str__(self):\n",
        "    return f\"{self.brand} mobile phone\"\n",
        "\n",
        "Phone.__dict__\n",
        "print(repr(Phone))\n",
        "phone = Phone(\"Apple\")\n",
        "print(phone)\n",
        "phone"
      ],
      "metadata": {
        "colab": {
          "base_uri": "https://localhost:8080/"
        },
        "id": "kVSalKLYg9Ul",
        "outputId": "0b98b0e0-c27c-48ac-c73f-a323d8e406c2"
      },
      "execution_count": 3,
      "outputs": [
        {
          "output_type": "stream",
          "name": "stdout",
          "text": [
            "<class '__main__.Phone'>\n",
            "Apple mobile phone\n"
          ]
        },
        {
          "output_type": "execute_result",
          "data": {
            "text/plain": [
              "Phone Apple"
            ]
          },
          "metadata": {},
          "execution_count": 3
        }
      ]
    },
    {
      "cell_type": "markdown",
      "source": [
        "LEN"
      ],
      "metadata": {
        "id": "3d-1RwYehL99"
      }
    },
    {
      "cell_type": "code",
      "source": [
        "class Point:\n",
        "  def __init__(self, *coords):\n",
        "    for value in coords:\n",
        "      if not isinstance(value, (int, float)):\n",
        "        raise ValueError('Coordinates must be of type int or float')\n",
        "    self._coords = coords\n",
        "\n",
        "  def __repr__(self):\n",
        "    return f\"Point(coords={self._coords}).\"\n",
        "\n",
        "  def __len__(self):\n",
        "    return len(self._coords)\n",
        "\n",
        " \n",
        "\n",
        "p = Point(3,4, -4.00)\n",
        "p.__dict__ "
      ],
      "metadata": {
        "colab": {
          "base_uri": "https://localhost:8080/"
        },
        "id": "FXMWuDnoiRqo",
        "outputId": "d918702c-9318-49cd-b8c8-b1a1d3583c29"
      },
      "execution_count": 19,
      "outputs": [
        {
          "output_type": "execute_result",
          "data": {
            "text/plain": [
              "{'_coords': (3, 4, -4.0)}"
            ]
          },
          "metadata": {},
          "execution_count": 19
        }
      ]
    },
    {
      "cell_type": "code",
      "source": [
        "\n",
        "len(p)"
      ],
      "metadata": {
        "colab": {
          "base_uri": "https://localhost:8080/"
        },
        "id": "uYQHCThamrE4",
        "outputId": "67f544c4-ccc6-46fd-eb7d-7cd7a3e306ce"
      },
      "execution_count": 21,
      "outputs": [
        {
          "output_type": "execute_result",
          "data": {
            "text/plain": [
              "3"
            ]
          },
          "metadata": {},
          "execution_count": 21
        }
      ]
    },
    {
      "cell_type": "markdown",
      "source": [
        "BOOL"
      ],
      "metadata": {
        "id": "98Zvjg_xm1Wn"
      }
    },
    {
      "cell_type": "code",
      "source": [
        "class Point:\n",
        "  def __init__(self, *coords):\n",
        "    for value in coords:\n",
        "      if not isinstance(value, (int, float)):\n",
        "        raise ValueError('Coordinates must be of type int or float')\n",
        "    self._coords = coords\n",
        "\n",
        "  def __repr__(self):\n",
        "    return f\"Point(coords={self._coords}).\"\n",
        "\n",
        "  def __len__(self):\n",
        "    return len(self._coords)\n",
        "  \n",
        "  def __bool__(self):\n",
        "    return sum(self._coords) != 0\n",
        "  @property\n",
        "  def coords(self):\n",
        "    return self._coords"
      ],
      "metadata": {
        "id": "gtHars_qoC5O"
      },
      "execution_count": 28,
      "outputs": []
    },
    {
      "cell_type": "code",
      "source": [
        "p = Point()\n",
        "q = Point(1,2,3,4,5)\n",
        "p,q"
      ],
      "metadata": {
        "colab": {
          "base_uri": "https://localhost:8080/"
        },
        "id": "OAXCQZVPoYAG",
        "outputId": "8d9f5348-adfb-4124-f54e-12fe50c4390a"
      },
      "execution_count": 29,
      "outputs": [
        {
          "output_type": "execute_result",
          "data": {
            "text/plain": [
              "(Point(coords=())., Point(coords=(1, 2, 3, 4, 5)).)"
            ]
          },
          "metadata": {},
          "execution_count": 29
        }
      ]
    },
    {
      "cell_type": "code",
      "source": [
        "bool(p), bool(q)"
      ],
      "metadata": {
        "colab": {
          "base_uri": "https://localhost:8080/"
        },
        "id": "CZXOR77moff7",
        "outputId": "ca65b2a2-cc85-45ff-9492-92b42164f02b"
      },
      "execution_count": 30,
      "outputs": [
        {
          "output_type": "execute_result",
          "data": {
            "text/plain": [
              "(False, True)"
            ]
          },
          "metadata": {},
          "execution_count": 30
        }
      ]
    },
    {
      "cell_type": "markdown",
      "source": [
        "Operatory dwuargumentowe "
      ],
      "metadata": {
        "id": "KtQf7MGxoh-n"
      }
    },
    {
      "cell_type": "code",
      "source": [
        "class Point:\n",
        "  def __init__(self, *coords):\n",
        "    for value in coords:\n",
        "      if not isinstance(value, (int, float)):\n",
        "        raise ValueError('Coordinates must be of type int or float')\n",
        "    self._coords = coords\n",
        "\n",
        "  def __repr__(self):\n",
        "    return f\"Point(coords={self._coords}).\"\n",
        "\n",
        "  def __len__(self):\n",
        "    return len(self._coords)\n",
        "  \n",
        "  def __add__(self, other):\n",
        "    coords = tuple(x +y for x,y in zip(self.coords, other.coords))\n",
        "    return Point(*coords)\n",
        "\n",
        "  def __sub__(self, other):\n",
        "    coords = tuple(x - y for x,y in zip(self.coords, other.coords))\n",
        "    return Point(*coords)\n",
        "\n",
        "  def __mul__(self, other):\n",
        "    coords = tuple(x * y for x,y in zip(self.coords, other.coords))\n",
        "    return Point(*coords)\n",
        "    \n",
        "  @property\n",
        "  def coords(self):\n",
        "    return self._coords\n",
        "\n",
        "p1 = Point(4,2)\n",
        "p2 = Point(5,2)\n",
        "p1 * p2"
      ],
      "metadata": {
        "colab": {
          "base_uri": "https://localhost:8080/"
        },
        "id": "0LNLRVxbVZFj",
        "outputId": "bb1bb830-42f0-4896-8fe0-1d6441f8a6fb"
      },
      "execution_count": 5,
      "outputs": [
        {
          "output_type": "execute_result",
          "data": {
            "text/plain": [
              "Point(coords=(20, 4))."
            ]
          },
          "metadata": {},
          "execution_count": 5
        }
      ]
    },
    {
      "cell_type": "code",
      "source": [
        ""
      ],
      "metadata": {
        "id": "Vrje6jziWoo5"
      },
      "execution_count": null,
      "outputs": []
    }
  ]
}